{
 "cells": [
  {
   "cell_type": "code",
   "execution_count": 1,
   "metadata": {},
   "outputs": [],
   "source": [
    "import pandas as pd"
   ]
  },
  {
   "cell_type": "code",
   "execution_count": 2,
   "metadata": {},
   "outputs": [
    {
     "data": {
      "text/plain": [
       "'0.25.1'"
      ]
     },
     "execution_count": 2,
     "metadata": {},
     "output_type": "execute_result"
    }
   ],
   "source": [
    "pd.__version__"
   ]
  },
  {
   "cell_type": "code",
   "execution_count": 3,
   "metadata": {},
   "outputs": [
    {
     "name": "stdout",
     "output_type": "stream",
     "text": [
      "/Users/andeladeveloper/D3/python-projects/Data Engineering/Jupyters\r\n"
     ]
    }
   ],
   "source": [
    "!pwd"
   ]
  },
  {
   "cell_type": "code",
   "execution_count": 4,
   "metadata": {},
   "outputs": [],
   "source": [
    "import os"
   ]
  },
  {
   "cell_type": "code",
   "execution_count": 6,
   "metadata": {},
   "outputs": [
    {
     "data": {
      "text/plain": [
       "['.ipynb_checkpoints', 'El-Rufai Analysis.ipynb']"
      ]
     },
     "execution_count": 6,
     "metadata": {},
     "output_type": "execute_result"
    }
   ],
   "source": [
    "os.listdir()"
   ]
  },
  {
   "cell_type": "code",
   "execution_count": 8,
   "metadata": {},
   "outputs": [],
   "source": [
    "os.listdir?"
   ]
  },
  {
   "cell_type": "code",
   "execution_count": 14,
   "metadata": {},
   "outputs": [
    {
     "data": {
      "text/plain": [
       "['index.py',\n",
       " 'README.md',\n",
       " 'Pipfile',\n",
       " 'tweets',\n",
       " '.gitignore',\n",
       " '.env',\n",
       " 'csv',\n",
       " '.git',\n",
       " '.vscode',\n",
       " 'Pipfile.lock',\n",
       " '.idea']"
      ]
     },
     "execution_count": 14,
     "metadata": {},
     "output_type": "execute_result"
    }
   ],
   "source": [
    "os.listdir('/Users/andeladeveloper/D3/python-projects/Data Engineering/Pipelines/tweets')"
   ]
  },
  {
   "cell_type": "code",
   "execution_count": 15,
   "metadata": {},
   "outputs": [],
   "source": [
    "df = pd.read_csv('/Users/andeladeveloper/D3/python-projects/Data Engineering/Pipelines/tweets/csv/El-Rufai_2020-01-21_to_2020-01-27.csv')"
   ]
  },
  {
   "cell_type": "code",
   "execution_count": 16,
   "metadata": {},
   "outputs": [
    {
     "data": {
      "text/html": [
       "<div>\n",
       "<style scoped>\n",
       "    .dataframe tbody tr th:only-of-type {\n",
       "        vertical-align: middle;\n",
       "    }\n",
       "\n",
       "    .dataframe tbody tr th {\n",
       "        vertical-align: top;\n",
       "    }\n",
       "\n",
       "    .dataframe thead th {\n",
       "        text-align: right;\n",
       "    }\n",
       "</style>\n",
       "<table border=\"1\" class=\"dataframe\">\n",
       "  <thead>\n",
       "    <tr style=\"text-align: right;\">\n",
       "      <th></th>\n",
       "      <th>Unnamed: 0</th>\n",
       "      <th>createdTime</th>\n",
       "      <th>hashtags</th>\n",
       "      <th>userMentions</th>\n",
       "      <th>retweetCount</th>\n",
       "      <th>favoriteCount</th>\n",
       "      <th>isReply</th>\n",
       "      <th>UserCreatedDate</th>\n",
       "      <th>UserLikesNo</th>\n",
       "      <th>UserFollowerNo</th>\n",
       "      <th>UserFriendsNo</th>\n",
       "      <th>UserListNo</th>\n",
       "      <th>UserTotalTweet</th>\n",
       "      <th>UserIsVerified</th>\n",
       "      <th>tweet</th>\n",
       "      <th>clean_tweet</th>\n",
       "      <th>sentiment</th>\n",
       "    </tr>\n",
       "  </thead>\n",
       "  <tbody>\n",
       "    <tr>\n",
       "      <td>0</td>\n",
       "      <td>0</td>\n",
       "      <td>Mon Jan 27 04:02:08 +0000 2020</td>\n",
       "      <td>0</td>\n",
       "      <td>1</td>\n",
       "      <td>78</td>\n",
       "      <td>0</td>\n",
       "      <td>False</td>\n",
       "      <td>Fri Jan 01 02:47:08 +0000 2010</td>\n",
       "      <td>68216</td>\n",
       "      <td>1802</td>\n",
       "      <td>1729</td>\n",
       "      <td>29</td>\n",
       "      <td>202360</td>\n",
       "      <td>False</td>\n",
       "      <td>RT @haruna_braimoh: El-Rufai’s C’ttee Seeks Re...</td>\n",
       "      <td>RT braimoh El-Rufai’s C’ttee Seeks Reversal Of...</td>\n",
       "      <td>neutral</td>\n",
       "    </tr>\n",
       "    <tr>\n",
       "      <td>1</td>\n",
       "      <td>1</td>\n",
       "      <td>Mon Jan 27 03:19:40 +0000 2020</td>\n",
       "      <td>0</td>\n",
       "      <td>0</td>\n",
       "      <td>0</td>\n",
       "      <td>0</td>\n",
       "      <td>False</td>\n",
       "      <td>Thu Jul 04 18:54:39 +0000 2019</td>\n",
       "      <td>558</td>\n",
       "      <td>125</td>\n",
       "      <td>479</td>\n",
       "      <td>0</td>\n",
       "      <td>12550</td>\n",
       "      <td>False</td>\n",
       "      <td>NLC writes El-Rufai over withheld check-off du...</td>\n",
       "      <td>NLC writes El-Rufai over withheld check-off du...</td>\n",
       "      <td>neutral</td>\n",
       "    </tr>\n",
       "    <tr>\n",
       "      <td>2</td>\n",
       "      <td>2</td>\n",
       "      <td>Mon Jan 27 01:18:02 +0000 2020</td>\n",
       "      <td>0</td>\n",
       "      <td>1</td>\n",
       "      <td>78</td>\n",
       "      <td>0</td>\n",
       "      <td>False</td>\n",
       "      <td>Tue Nov 02 10:10:59 +0000 2010</td>\n",
       "      <td>3288</td>\n",
       "      <td>119</td>\n",
       "      <td>457</td>\n",
       "      <td>0</td>\n",
       "      <td>4922</td>\n",
       "      <td>False</td>\n",
       "      <td>RT @haruna_braimoh: El-Rufai’s C’ttee Seeks Re...</td>\n",
       "      <td>RT braimoh El-Rufai’s C’ttee Seeks Reversal Of...</td>\n",
       "      <td>neutral</td>\n",
       "    </tr>\n",
       "    <tr>\n",
       "      <td>3</td>\n",
       "      <td>3</td>\n",
       "      <td>Mon Jan 27 00:32:40 +0000 2020</td>\n",
       "      <td>0</td>\n",
       "      <td>1</td>\n",
       "      <td>9</td>\n",
       "      <td>0</td>\n",
       "      <td>False</td>\n",
       "      <td>Sat Mar 30 08:52:53 +0000 2013</td>\n",
       "      <td>6098</td>\n",
       "      <td>1684</td>\n",
       "      <td>711</td>\n",
       "      <td>4</td>\n",
       "      <td>16462</td>\n",
       "      <td>False</td>\n",
       "      <td>RT @sir_deeda: The impact of El-rufai reforms ...</td>\n",
       "      <td>RT deeda The impact of El-rufai reforms will b...</td>\n",
       "      <td>positive</td>\n",
       "    </tr>\n",
       "    <tr>\n",
       "      <td>4</td>\n",
       "      <td>4</td>\n",
       "      <td>Mon Jan 27 00:29:24 +0000 2020</td>\n",
       "      <td>0</td>\n",
       "      <td>0</td>\n",
       "      <td>0</td>\n",
       "      <td>0</td>\n",
       "      <td>False</td>\n",
       "      <td>Fri Mar 11 03:20:54 +0000 2016</td>\n",
       "      <td>21</td>\n",
       "      <td>3630</td>\n",
       "      <td>94</td>\n",
       "      <td>3</td>\n",
       "      <td>2251</td>\n",
       "      <td>False</td>\n",
       "      <td>Then Our Classical Story for the Week: “Buhari...</td>\n",
       "      <td>Then Our Classical Story for the Week “Buhari ...</td>\n",
       "      <td>negative</td>\n",
       "    </tr>\n",
       "  </tbody>\n",
       "</table>\n",
       "</div>"
      ],
      "text/plain": [
       "   Unnamed: 0                     createdTime  hashtags  userMentions  \\\n",
       "0           0  Mon Jan 27 04:02:08 +0000 2020         0             1   \n",
       "1           1  Mon Jan 27 03:19:40 +0000 2020         0             0   \n",
       "2           2  Mon Jan 27 01:18:02 +0000 2020         0             1   \n",
       "3           3  Mon Jan 27 00:32:40 +0000 2020         0             1   \n",
       "4           4  Mon Jan 27 00:29:24 +0000 2020         0             0   \n",
       "\n",
       "   retweetCount  favoriteCount  isReply                 UserCreatedDate  \\\n",
       "0            78              0    False  Fri Jan 01 02:47:08 +0000 2010   \n",
       "1             0              0    False  Thu Jul 04 18:54:39 +0000 2019   \n",
       "2            78              0    False  Tue Nov 02 10:10:59 +0000 2010   \n",
       "3             9              0    False  Sat Mar 30 08:52:53 +0000 2013   \n",
       "4             0              0    False  Fri Mar 11 03:20:54 +0000 2016   \n",
       "\n",
       "   UserLikesNo  UserFollowerNo  UserFriendsNo  UserListNo  UserTotalTweet  \\\n",
       "0        68216            1802           1729          29          202360   \n",
       "1          558             125            479           0           12550   \n",
       "2         3288             119            457           0            4922   \n",
       "3         6098            1684            711           4           16462   \n",
       "4           21            3630             94           3            2251   \n",
       "\n",
       "   UserIsVerified                                              tweet  \\\n",
       "0           False  RT @haruna_braimoh: El-Rufai’s C’ttee Seeks Re...   \n",
       "1           False  NLC writes El-Rufai over withheld check-off du...   \n",
       "2           False  RT @haruna_braimoh: El-Rufai’s C’ttee Seeks Re...   \n",
       "3           False  RT @sir_deeda: The impact of El-rufai reforms ...   \n",
       "4           False  Then Our Classical Story for the Week: “Buhari...   \n",
       "\n",
       "                                         clean_tweet sentiment  \n",
       "0  RT braimoh El-Rufai’s C’ttee Seeks Reversal Of...   neutral  \n",
       "1  NLC writes El-Rufai over withheld check-off du...   neutral  \n",
       "2  RT braimoh El-Rufai’s C’ttee Seeks Reversal Of...   neutral  \n",
       "3  RT deeda The impact of El-rufai reforms will b...  positive  \n",
       "4  Then Our Classical Story for the Week “Buhari ...  negative  "
      ]
     },
     "execution_count": 16,
     "metadata": {},
     "output_type": "execute_result"
    }
   ],
   "source": [
    "df.head()"
   ]
  },
  {
   "cell_type": "code",
   "execution_count": 17,
   "metadata": {},
   "outputs": [],
   "source": [
    "import numpy as np\n",
    "retweet_count = np.array(df['retweetCount'])"
   ]
  },
  {
   "cell_type": "code",
   "execution_count": 18,
   "metadata": {},
   "outputs": [
    {
     "data": {
      "text/plain": [
       "array([ 78,   0,  78,   9,   0,  78,  78,  78,  78,  78,  78,  78,  10,\n",
       "         9,   0,   0,  64,  78,   9,   0,   0,  64,   9,  78,   9,   9,\n",
       "         9,   9,   9,   9,  10,  78,  64,  78,  78,  78,  78,  10,  64,\n",
       "        64,  78,  78,   5,   0,  64,  64,  64,  64,  78,  78,  10,  10,\n",
       "        64,  10,  10,  89,   0,  78,   0,  10,  64,  10,   0,   1,   0,\n",
       "        64,  78,  64,  78,  78,  64,  78,  10,  78,  10,  64,  78,  64,\n",
       "        64,   5,  78,  78,  78,  64,  78,  64,  78,  78,  64,  64,  78,\n",
       "        64,  78,  64,  64,  64,  78,  78,  64,  64,  64,  64,  64,  78,\n",
       "        64,  64,   0,  78,  64,  78,  64,  64,  64,  64,  78,  64,  64,\n",
       "        78,  78,  78,  64,   0,  64,  64,  64,  64,  64,  64,  78,  64,\n",
       "        64,  64,  64,  64,  64,  78,  78,  64,  64,  78,  64,  64,  64,\n",
       "        78,  78,  64,  64,  64,  64,  64,   0,  78,   1,  78,   1,  78,\n",
       "        78,  16,  17,  78,   0,   0,  78,  78,  78,  78,   5,  78,  78,\n",
       "        78,  78,  78,  78,  78,  78,   5,  78,  78,  78,  78,  78, 529,\n",
       "        78,  78,  78,  78,   5,   0,   0,  51,  11,   0,   0,   2,  11,\n",
       "         3,  51,  11,  16,  17,   0,  51,  51,   7,  11,   0,   0,  11,\n",
       "         0,  11,   0,   0,   0,  11,  11,   0,  11,  51,   2,  16,  17,\n",
       "         0,   9,  32,   0,   0,   0,   3,   3,  17,  16,   0,   9,  12,\n",
       "        51,  51,   0,  51,   9,   9,   9,  51,  51,  20,   0,   9,   9,\n",
       "        51,  16,  17,  51,  20,  51,  51,   0,  12,  89,   0,   0,   0,\n",
       "         0,  12,  89,  12,  20,   0,  51,  16,  17,  51,  16,  17,  16,\n",
       "        17,  16,  17,   0,   0,  17,  16,  12,  12,  51,  12,   0,  51,\n",
       "        12,  12,  12,   0,  12,  12,   7,  51,  51,  51,   0,  89,   0,\n",
       "        20,  16,  17,   7,   0,   1,   0,  16,  17,   0,   0,   0,   0,\n",
       "        89,  20,   0,   0,  89,   0,   2,   0,  89,   0,   1,  89,   0,\n",
       "         0,   0,  51,   0,   2,   0,   0,   0,   0,   0,   0,   1,   0,\n",
       "         0,   0,   7,   7,  89,   7,  13,  51,   2,   0,  51,   1,   0,\n",
       "         1,   0,   0,  20,   0,   0,  89,   0,  13,  89,  20,  36,   0,\n",
       "        89,   0,  20,   0,  20,   0,   0,  36,  20,  36,  17,  20,  20,\n",
       "         7,  20,   1,   0,  51,  13,  89,   0,   0,  89,   0,   0,   0,\n",
       "        20,   0,   0,   0,   0,   0,   0,  20,  51,   0,  51,  51,  89,\n",
       "        16,  17,   0,  51,   0,  89,   7,   0,  51,  51,  51,  89,  16,\n",
       "        17,   3,  89,   7,   0,   0,   0,   4,   0,   2,  51,  51,   7,\n",
       "        89,   1,  51,  89,  89,   7,   7,  13,  16,  17,   7,   0,  51,\n",
       "         1,   0,  51,  51,  51,   0,  51,  51,  36,  89,   1,   0,   0,\n",
       "        16,   0,  17,   0,  51,  51,  16,  17,  51,  87,   0,   0,  13,\n",
       "        89,   4,   0,   0,   0,   4,   4,   0,   0,   0,   0,  89,  13,\n",
       "        89,   0,   0,   0,   1,   0,   0, 191,   0,   0,   0,   3,  13,\n",
       "        89,  89,  89,  89,  89,  12,  13,   4,  89,  12,   4,  13,  13,\n",
       "        36,   0,  12,  89,   4,  89,   4,   0,  36,  89,  89,   4,  89,\n",
       "        89,  13,  89,  36,  12,  36,   0,  89,  13,  36,  89,  89,  13,\n",
       "        36,  13,   0,  36,  89,  12,  89,  36,   0,   1,   1,  36,  12,\n",
       "        36,  36,   0,  36,  36,  36,  36,  36,  36,  36,  36,  12,  36,\n",
       "        12,   0,  12,  12,  12,  12,  89,  89,  89,   0,  89,   0,  89,\n",
       "         3,   0,  89,  89,  89,  89,   3,  89,  89,   0,   4,  89,  89,\n",
       "        89,   4,   0,  89,  89,   0,  89,  89,  89,  89,  89,  89,  89,\n",
       "        89,   0,  89,  89,   0,   0,  28,   0,   1,  17,  17,   1,  17,\n",
       "         1,   0,   0,   3,   0,   0,  10,   0,   3,   4,   6,   3,   1,\n",
       "        17,   8,  17,   0,   5,  17,  17,   0,   0,  17,   5,  17,  17,\n",
       "         0,   0,  17,   0,   0,  17,   6,  17,  17,   0,   0,  18,   1,\n",
       "       191,  17,   0,   6,   0,   6,  49,   5,  17,   0,  17,  17,   0,\n",
       "         0,   0,   2,   6,   6,   5,   8,   0,   0,   0,   0,   0,   0,\n",
       "         0,   0,   1,   0,   0,   0,   0,  10,   3,   3,   0,   0,  18,\n",
       "         0,   0,   0,   0,   0,   1,   0,   0,   1,   0,   0,   5,   4,\n",
       "         6,   3,   5,   0,   5,   6,   6,   6,   4,   0,  10,   0,   4,\n",
       "         0,   0,   0,   0,   0,   0,   6,  50,   0,   0,   4,  10,   5,\n",
       "         4,   4,   1,   4,   0,   0,  10,   0,   5,   5,   5,   5,   6,\n",
       "         6,   0,   6,  10,   0,   6,   0,   2,   2,   0,   2,   0,   4,\n",
       "         4,   2,   2,  10,   1,   2,   4,   4,  10,   1,   0,  10,  10,\n",
       "         1,   0,   0,   5,  49,  49,  18,   7,   5,  49,   5,   0,   5,\n",
       "         5,   5,  50,  18,   8,   0,   8,   5,   1,   1,   8,   8,   1,\n",
       "         8,   8,   6,   0,   0,  18,   0,   0,   0,   8,  18,   0,  50,\n",
       "         0,   0,   0,   0,  18,   8,  50,   5,   0,   5,   5,  49,   5,\n",
       "        50,   0,   8,   3,   0,   0,   0,   0,   8,  18,  18,   8,  18,\n",
       "        18,  18,   0,  18,   3,   2,  49,   3,  49,  50,  11,   0,  50,\n",
       "        11,  11,  11,  49,  11,  11,  11,  49,   0,   0,  49,   1,   0,\n",
       "        50,   1,   1,   1,   1,   0,  49,   0,   0,   0,   0,   0,  49,\n",
       "         0,   1,  50,   0,   6,  50,  50])"
      ]
     },
     "execution_count": 18,
     "metadata": {},
     "output_type": "execute_result"
    }
   ],
   "source": [
    "retweet_count"
   ]
  },
  {
   "cell_type": "code",
   "execution_count": 19,
   "metadata": {},
   "outputs": [
    {
     "data": {
      "text/plain": [
       "24416"
      ]
     },
     "execution_count": 19,
     "metadata": {},
     "output_type": "execute_result"
    }
   ],
   "source": [
    "retweet_count.sum()"
   ]
  },
  {
   "cell_type": "code",
   "execution_count": 20,
   "metadata": {},
   "outputs": [
    {
     "data": {
      "text/plain": [
       "24416"
      ]
     },
     "execution_count": 20,
     "metadata": {},
     "output_type": "execute_result"
    }
   ],
   "source": [
    "sum(retweet_count)"
   ]
  },
  {
   "cell_type": "code",
   "execution_count": 22,
   "metadata": {},
   "outputs": [],
   "source": [
    "user_likes_no = np.array(df['UserLikesNo'])"
   ]
  },
  {
   "cell_type": "code",
   "execution_count": 23,
   "metadata": {},
   "outputs": [
    {
     "data": {
      "text/plain": [
       "array([ 68216,    558,   3288,   6098,     21,    119,   9272,  28676,\n",
       "         2879,  94838,  41939,  36192,   2071,    238,  11555,    974,\n",
       "        12453,  28271,    368,   1286,   1286,   1363,  41939,  17244,\n",
       "         2103,  47796,   3043,  54936,   1060,   3252,  65591,   3225,\n",
       "        78545,  17756,  33234,  14577,  87800,  18494,   1699,  13451,\n",
       "        62499,   1310,      5,   2650,   9947, 215367,    448,   2982,\n",
       "          128,  11746,   7442,   9935,   2264,   5461,  26807,   1953,\n",
       "            9,  30973,  19972,   3845,  27228,  16025,   1581,    985,\n",
       "        33234,   6390,  29556,  13271,    858,  13540,  29769,  12894,\n",
       "        14666,   4885,   9343,   3146,     14,  10690,   9340,   4161,\n",
       "         3092,   5185,  86486,  11666,   7249,   7174,   5478,   2548,\n",
       "         2894,  10516,    507,  11404,   5796,  28821,   9724,  21810,\n",
       "          989,    522,  22820,   5440,  50085,  81712,   4549,  21097,\n",
       "        27944,   4581,   2000,  13967,    278,  25920,   2139,    394,\n",
       "         3993,   3941,   1389,   9483,   1418,  63893,   2291,    535,\n",
       "          297,  52580,   7451,  19940,  11292,  15668,  60772,   5905,\n",
       "         6367,   2825,   1188,  14679,    629,  10920, 213940,  35923,\n",
       "         2477,   8044,  19844,  10094,   7182,   1682,   3408,    255,\n",
       "         3171,  22607,     97,  19371,  84424,   4115,    485,  97350,\n",
       "        24097,   2700,    221, 236028,   8256,   5229,   5229,   5452,\n",
       "           51,   2007,   7802,   4725,   6943,  17261,   9139,  23010,\n",
       "        18613,   9935,   1982,   1653,  25707,   1388,  87006,   1201,\n",
       "        20955,   2834,   2842,  41341,   1557,     56,  11827,  17684,\n",
       "        24866,  16606,   9577,  65591,   1475,   3341,   8016,    319,\n",
       "           19,      2,  11203,   3349, 209612,   2092,  25707,  25707,\n",
       "       107423,  98266,   1644,    430,  31632,  13297,      4, 250237,\n",
       "          810,    571,    510,   3440,     74,    347,  50521,   2207,\n",
       "          185,   3467,    139,  22946,  22946,    473,   4151,   9294,\n",
       "        40128,    361,    185,  35387,    138,  78279,  78279,    263,\n",
       "         3292,   1752,  28914,   4013,  20724,   3969,   6118,  10567,\n",
       "        10754,   2491,  14067,  46212,   2194,     86,   8935,  44088,\n",
       "        14666,  14666,    499,  35031,  11517, 137153,    263,    121,\n",
       "        90335,      4,      4,     16,    140,  10134,     13,     32,\n",
       "       137153,     73,  11949,   1871,   1871,  23265,   4869,   4869,\n",
       "          554,    554,   5950,   5950,   9623,   7491,  11345,  11345,\n",
       "        18872,     17,  58780,    494,    473,    225,    386,  13267,\n",
       "         6515,    311,   1138,      0,   4421,     74, 189098,  71956,\n",
       "           76,  91595,     14,   6737,  43501,  43501,    352,    112,\n",
       "        39520,    205,  12881,  12881,      5,     19,     16,     13,\n",
       "        16790,   1530,     85,   4044,  11945,    191,   8388,     69,\n",
       "        19657,   6623,  61560,   5069,  22956,    393,    336,  26597,\n",
       "          183,   5497,    157,    101,     36,   3946,     36,    263,\n",
       "         3236,     29,      3,   1599,  35387,  11224, 209612,    138,\n",
       "            6,  23922,    297,    191,   8779,    466,     73,    115,\n",
       "            0,  11059,  11203,   6152,    974,     52,      1,    128,\n",
       "         5002,  78443, 209612,   7347,   2313,   5407,    984,     73,\n",
       "         4199, 107423,    379,    430,     28,   8682,   9935,   3854,\n",
       "          588,     48,   9289,     53,    316, 116745,  17296,   1366,\n",
       "         1111,   5039,   5049,    473,      1,    522,   3423,    157,\n",
       "          101,     36,   3946,     36,   5137,   1324,    350,   1322,\n",
       "          613,   4161,    394,   4888,   4888,   6487,   5344,  41999,\n",
       "          430,   2349,     62,  34585,  83860,  21123,   1011,  54373,\n",
       "        54373,    299,    545,  69320,     77,   8601,     55,    601,\n",
       "           55,     93,  23173,  23627,      4,  21063,   1655,  38754,\n",
       "         4040,   5580,  20090,  23265,      7,  41529,  41529,   2074,\n",
       "         5343,  27566,     23,    343,  66611,  22918,    801,     69,\n",
       "        31850,  16343,  20164,  32414,    235,      0,      4,    476,\n",
       "           14,    476,   1059,    682,  69320,   9343,   9343,   7773,\n",
       "          999, 212867,      4,   7193,    898,  35390,     14,   4029,\n",
       "          860,   8461,    138,    161,     19,     14,     14,   3874,\n",
       "           93,   2163,    169,     16,   1925,   8315,      9,   2871,\n",
       "          214,      0,      0,  94297,   9713,      0,    527,   2680,\n",
       "        31354,   3233,    681,   1982,    762,  31367,  99756,   2630,\n",
       "        31373,  35133,  47060,   4524,     20,   1700,  13161,  59460,\n",
       "         3745,  62069,    167,  48440,   4348,   1911,  62069,  59341,\n",
       "          966,  10465,   2735,  69320,   1982,  49276,   1051,   4384,\n",
       "        45346,   2383,  17776,     61,    262,   4864,  10363,     30,\n",
       "          700,   9682,  46560,   1047, 250237,      0,    285,  15124,\n",
       "           80,     98,    162,   5539,    795,   2024,    579,  13564,\n",
       "        18970,   3423,   5225,   3716,  76044,    205,    836,   4998,\n",
       "            0,   6818,   3209, 250237,    185,   4335,   6827,   2250,\n",
       "          516,   2258,    205,    317,  18244,   5407,    303,     84,\n",
       "          498,   3234,    140,  89002, 294059,  13564,    836,   6006,\n",
       "        12333,    354,     21, 203906,  11117,  90238,    361,  17038,\n",
       "        26226,  18284,   2949,   1492, 103187,    494,   1512,     12,\n",
       "         1734,    836,   6822,    116,   8320,   3372,    466,   6108,\n",
       "         2601,  35328,   4199,   3875,    738,  57219,  41038,     30,\n",
       "        11279,   1652,   1051,  23627,     73,     43,   1969,   2326,\n",
       "         6267,   2131,   1415,    562,   4255,    272,   3033,     47,\n",
       "           78,  35483,   7639,  14610,   4511,   9501,   1613,   1213,\n",
       "         4632,  11059,      6,    158,   8751,   4927,      2,    197,\n",
       "          170,   1902,   3463,    872,  24805,      6,  24805,    262,\n",
       "          511,    753,   3336,   7182,   1094,   6434,      4,     14,\n",
       "         1059,    203,     30,    303,   4516,      9,     17,      2,\n",
       "          592,     31,  15236,    975,   2999,     37,      9,     50,\n",
       "            7,     49,     45,   3176,   7796,    185,     44,   1244,\n",
       "        68002,   3424,  13432,      9,    125,    361,  59960,   5407,\n",
       "         5407,    185,  21614,  21614,  32163,    812,  49276,   4949,\n",
       "        37186,      7,   4072,   8399,   1418,   1324,      5,      0,\n",
       "           25,    192,  18190,    829,    157,    101,     36,   3946,\n",
       "           36,   3478,  13649,    829,  24673,    160,    208,   4724,\n",
       "        17094,     23,  81209,   1738,  24673,     73,  29465,  10691,\n",
       "         7913,   5451,   4031,    185,   7451,   4345,      4,    197,\n",
       "         4345,    143,   1324,      9,   3245,  33367,      1,   2261,\n",
       "           72,  12919, 215367,  53210,  23265,   1982,     90,    389,\n",
       "        50521,    185,  49276,   1319,    361,    903,    185,   3369,\n",
       "          195,    125,   3366,    275,  29465,  23413,   3011,   1662,\n",
       "         2679,   7799,    102,   1725,   5653,   3575,  45214,  35031,\n",
       "         6522,    288,  29429,    807,   1839,     57,   3724,    317,\n",
       "       103187,   2372,    325,    226,   4441,    143,  25807,      0,\n",
       "        24805,      3,  78130,    595,  15947,  48789,   1280,   5407,\n",
       "            9,    648,    454,  76044,   7182,   1954,  24805,   4272,\n",
       "         6150,   6588,    185,  10284,     11,   3526,  56178,   3932,\n",
       "          291,    329,     73,    334,   8621,   8026,    185,  78130,\n",
       "        78312,   8822,  10691,    325,   5006,   1378,  13456,   7403,\n",
       "         4181,  14515,   2482,      2,  99796,  69320,  32068,   5133,\n",
       "          340,   8367,   1479,    185,  37207,   4027,     21,   4447,\n",
       "        14136,   8262,  78545,  11288,      9, 130081,    185,   3528,\n",
       "         3865,    554,      1,     14,    913,      9,   3465,    969,\n",
       "          185,  12085,     44,  48174,   5504,   4273])"
      ]
     },
     "execution_count": 23,
     "metadata": {},
     "output_type": "execute_result"
    }
   ],
   "source": [
    "user_likes_no"
   ]
  },
  {
   "cell_type": "code",
   "execution_count": 24,
   "metadata": {},
   "outputs": [
    {
     "data": {
      "text/plain": [
       "14138891"
      ]
     },
     "execution_count": 24,
     "metadata": {},
     "output_type": "execute_result"
    }
   ],
   "source": [
    "user_likes_no.sum()"
   ]
  },
  {
   "cell_type": "code",
   "execution_count": 25,
   "metadata": {},
   "outputs": [
    {
     "name": "stdout",
     "output_type": "stream",
     "text": [
      "==========\n",
      "UserLikesNo mean: 16103.520501138952\n",
      "UserLikesNo standard devialtion: 34708.5233099399\n",
      "===========\n"
     ]
    }
   ],
   "source": [
    "user_likes_no.mean()\n",
    "user_likes_no.std()\n",
    "print(f'==========\\nUserLikesNo mean: {user_likes_no.mean()}\\nUserLikesNo standard devialtion: {user_likes_no.std()}\\n===========')"
   ]
  },
  {
   "cell_type": "code",
   "execution_count": 26,
   "metadata": {},
   "outputs": [
    {
     "data": {
      "text/plain": [
       "0"
      ]
     },
     "execution_count": 26,
     "metadata": {},
     "output_type": "execute_result"
    }
   ],
   "source": [
    "user_likes_no.min()"
   ]
  },
  {
   "cell_type": "code",
   "execution_count": 27,
   "metadata": {},
   "outputs": [
    {
     "data": {
      "text/plain": [
       "294059"
      ]
     },
     "execution_count": 27,
     "metadata": {},
     "output_type": "execute_result"
    }
   ],
   "source": [
    "user_likes_no.max()"
   ]
  },
  {
   "cell_type": "code",
   "execution_count": 29,
   "metadata": {},
   "outputs": [
    {
     "name": "stdout",
     "output_type": "stream",
     "text": [
      "Percentile ==== 350.5\n"
     ]
    }
   ],
   "source": [
    "print(f'Percentile ==== {np.percentile(user_likes_no, 25)}')"
   ]
  },
  {
   "cell_type": "code",
   "execution_count": 30,
   "metadata": {},
   "outputs": [],
   "source": [
    "%matplotlib inline"
   ]
  },
  {
   "cell_type": "code",
   "execution_count": 31,
   "metadata": {},
   "outputs": [],
   "source": [
    "import matplotlib.pyplot as plt\n",
    "import seaborn; seaborn.set()"
   ]
  },
  {
   "cell_type": "code",
   "execution_count": 32,
   "metadata": {},
   "outputs": [
    {
     "data": {
      "text/plain": [
       "Text(0, 0.5, 'number')"
      ]
     },
     "execution_count": 32,
     "metadata": {},
     "output_type": "execute_result"
    },
    {
     "data": {
      "image/png": "[encoded data removed]",
      "text/plain": [
       "<Figure size 432x288 with 1 Axes>"
      ]
     },
     "metadata": {},
     "output_type": "display_data"
    }
   ],
   "source": [
    "plt.hist(user_likes_no)\n",
    "plt.title('User likes plot')\n",
    "plt.xlabel('user_likes_no')\n",
    "plt.ylabel('number')"
   ]
  },
  {
   "cell_type": "code",
   "execution_count": 33,
   "metadata": {},
   "outputs": [
    {
     "data": {
      "text/plain": [
       "Text(0, 0.5, 'user_likes_no')"
      ]
     },
     "execution_count": 33,
     "metadata": {},
     "output_type": "execute_result"
    },
    {
     "data": {
      "image/png": "[encoded data removed]",
      "text/plain": [
       "<Figure size 432x288 with 1 Axes>"
      ]
     },
     "metadata": {},
     "output_type": "display_data"
    }
   ],
   "source": [
    "plt.hist(user_likes_no)\n",
    "plt.title('User likes plot')\n",
    "plt.xlabel('number')\n",
    "plt.ylabel('user_likes_no')"
   ]
  },
  {
   "cell_type": "code",
   "execution_count": 35,
   "metadata": {},
   "outputs": [
    {
     "data": {
      "text/plain": [
       "<pandas.core.groupby.generic.DataFrameGroupBy object at 0x1a21d60bd0>"
      ]
     },
     "execution_count": 35,
     "metadata": {},
     "output_type": "execute_result"
    }
   ],
   "source": [
    "df.groupby(['sentiment'])"
   ]
  },
  {
   "cell_type": "code",
   "execution_count": 36,
   "metadata": {},
   "outputs": [],
   "source": [
    "sentiment = df.groupby(['sentiment'])"
   ]
  },
  {
   "cell_type": "code",
   "execution_count": 37,
   "metadata": {},
   "outputs": [
    {
     "data": {
      "text/plain": [
       "<pandas.core.groupby.generic.DataFrameGroupBy object at 0x1a21d61390>"
      ]
     },
     "execution_count": 37,
     "metadata": {},
     "output_type": "execute_result"
    }
   ],
   "source": [
    "sentiment"
   ]
  },
  {
   "cell_type": "code",
   "execution_count": 39,
   "metadata": {},
   "outputs": [
    {
     "data": {
      "text/html": [
       "<div>\n",
       "<style scoped>\n",
       "    .dataframe tbody tr th:only-of-type {\n",
       "        vertical-align: middle;\n",
       "    }\n",
       "\n",
       "    .dataframe tbody tr th {\n",
       "        vertical-align: top;\n",
       "    }\n",
       "\n",
       "    .dataframe thead th {\n",
       "        text-align: right;\n",
       "    }\n",
       "</style>\n",
       "<table border=\"1\" class=\"dataframe\">\n",
       "  <thead>\n",
       "    <tr style=\"text-align: right;\">\n",
       "      <th></th>\n",
       "      <th>Unnamed: 0</th>\n",
       "      <th>hashtags</th>\n",
       "      <th>userMentions</th>\n",
       "      <th>retweetCount</th>\n",
       "      <th>favoriteCount</th>\n",
       "      <th>isReply</th>\n",
       "      <th>UserLikesNo</th>\n",
       "      <th>UserFollowerNo</th>\n",
       "      <th>UserFriendsNo</th>\n",
       "      <th>UserListNo</th>\n",
       "      <th>UserTotalTweet</th>\n",
       "      <th>UserIsVerified</th>\n",
       "    </tr>\n",
       "    <tr>\n",
       "      <th>sentiment</th>\n",
       "      <th></th>\n",
       "      <th></th>\n",
       "      <th></th>\n",
       "      <th></th>\n",
       "      <th></th>\n",
       "      <th></th>\n",
       "      <th></th>\n",
       "      <th></th>\n",
       "      <th></th>\n",
       "      <th></th>\n",
       "      <th></th>\n",
       "      <th></th>\n",
       "    </tr>\n",
       "  </thead>\n",
       "  <tbody>\n",
       "    <tr>\n",
       "      <td>negative</td>\n",
       "      <td>136535</td>\n",
       "      <td>25</td>\n",
       "      <td>240</td>\n",
       "      <td>10177</td>\n",
       "      <td>563</td>\n",
       "      <td>6.0</td>\n",
       "      <td>5648602</td>\n",
       "      <td>12029737</td>\n",
       "      <td>547192</td>\n",
       "      <td>17068</td>\n",
       "      <td>16998750</td>\n",
       "      <td>8.0</td>\n",
       "    </tr>\n",
       "    <tr>\n",
       "      <td>neutral</td>\n",
       "      <td>192228</td>\n",
       "      <td>28</td>\n",
       "      <td>359</td>\n",
       "      <td>12855</td>\n",
       "      <td>2141</td>\n",
       "      <td>26.0</td>\n",
       "      <td>7201034</td>\n",
       "      <td>19955397</td>\n",
       "      <td>634107</td>\n",
       "      <td>25605</td>\n",
       "      <td>28724270</td>\n",
       "      <td>21.0</td>\n",
       "    </tr>\n",
       "    <tr>\n",
       "      <td>positive</td>\n",
       "      <td>56240</td>\n",
       "      <td>13</td>\n",
       "      <td>79</td>\n",
       "      <td>1384</td>\n",
       "      <td>82</td>\n",
       "      <td>12.0</td>\n",
       "      <td>1289255</td>\n",
       "      <td>2331703</td>\n",
       "      <td>178975</td>\n",
       "      <td>3786</td>\n",
       "      <td>4816538</td>\n",
       "      <td>5.0</td>\n",
       "    </tr>\n",
       "  </tbody>\n",
       "</table>\n",
       "</div>"
      ],
      "text/plain": [
       "           Unnamed: 0  hashtags  userMentions  retweetCount  favoriteCount  \\\n",
       "sentiment                                                                    \n",
       "negative       136535        25           240         10177            563   \n",
       "neutral        192228        28           359         12855           2141   \n",
       "positive        56240        13            79          1384             82   \n",
       "\n",
       "           isReply  UserLikesNo  UserFollowerNo  UserFriendsNo  UserListNo  \\\n",
       "sentiment                                                                    \n",
       "negative       6.0      5648602        12029737         547192       17068   \n",
       "neutral       26.0      7201034        19955397         634107       25605   \n",
       "positive      12.0      1289255         2331703         178975        3786   \n",
       "\n",
       "           UserTotalTweet  UserIsVerified  \n",
       "sentiment                                  \n",
       "negative         16998750             8.0  \n",
       "neutral          28724270            21.0  \n",
       "positive          4816538             5.0  "
      ]
     },
     "execution_count": 39,
     "metadata": {},
     "output_type": "execute_result"
    }
   ],
   "source": [
    "sentiment.sum()"
   ]
  },
  {
   "cell_type": "code",
   "execution_count": 42,
   "metadata": {},
   "outputs": [
    {
     "data": {
      "text/plain": [
       "neutral     475\n",
       "negative    296\n",
       "positive    107\n",
       "Name: sentiment, dtype: int64"
      ]
     },
     "execution_count": 42,
     "metadata": {},
     "output_type": "execute_result"
    }
   ],
   "source": [
    "df.sentiment.value_counts()"
   ]
  },
  {
   "cell_type": "code",
   "execution_count": 44,
   "metadata": {},
   "outputs": [
    {
     "data": {
      "text/plain": [
       "<matplotlib.legend.Legend at 0x1a216b1690>"
      ]
     },
     "execution_count": 44,
     "metadata": {},
     "output_type": "execute_result"
    },
    {
     "data": {
      "image/png": "[encoded data removed]",
      "text/plain": [
       "<Figure size 432x288 with 1 Axes>"
      ]
     },
     "metadata": {},
     "output_type": "display_data"
    }
   ],
   "source": [
    "df.sentiment.value_counts().plot(kind='pie', autopct='%.2f').legend(loc='best')"
   ]
  },
  {
   "cell_type": "code",
   "execution_count": 45,
   "metadata": {},
   "outputs": [
    {
     "data": {
      "text/plain": [
       "Text(0, 0.5, 'user_likes_no')"
      ]
     },
     "execution_count": 45,
     "metadata": {},
     "output_type": "execute_result"
    },
    {
     "data": {
      "image/png": "[encoded data removed]",
      "text/plain": [
       "<Figure size 432x288 with 1 Axes>"
      ]
     },
     "metadata": {},
     "output_type": "display_data"
    }
   ],
   "source": [
    "plt.hist(user_likes_no)\n",
    "plt.title('User likes plot')\n",
    "plt.xlabel('number')\n",
    "plt.ylabel('user_likes_no')"
   ]
  },
  {
   "cell_type": "code",
   "execution_count": 47,
   "metadata": {},
   "outputs": [
    {
     "data": {
      "text/plain": [
       "<matplotlib.legend.Legend at 0x1a23adddd0>"
      ]
     },
     "execution_count": 47,
     "metadata": {},
     "output_type": "execute_result"
    },
    {
     "data": {
      "image/png": "[encoded data removed]",
      "text/plain": [
       "<Figure size 432x288 with 1 Axes>"
      ]
     },
     "metadata": {},
     "output_type": "display_data"
    }
   ],
   "source": [
    "df.sentiment.value_counts().plot(kind='bar').legend(loc='best')"
   ]
  },
  {
   "cell_type": "code",
   "execution_count": 48,
   "metadata": {},
   "outputs": [
    {
     "data": {
      "text/plain": [
       "<matplotlib.legend.Legend at 0x1a25d077d0>"
      ]
     },
     "execution_count": 48,
     "metadata": {},
     "output_type": "execute_result"
    },
    {
     "data": {
      "image/png": "[encoded data removed]",
      "text/plain": [
       "<Figure size 432x288 with 1 Axes>"
      ]
     },
     "metadata": {},
     "output_type": "display_data"
    }
   ],
   "source": [
    "df.sentiment.value_counts().plot(kind='barh').legend(loc='best')"
   ]
  },
  {
   "cell_type": "code",
   "execution_count": null,
   "metadata": {},
   "outputs": [],
   "source": []
  }
 ],
 "metadata": {
  "kernelspec": {
   "display_name": "Python 3",
   "language": "python",
   "name": "python3"
  },
  "language_info": {
   "codemirror_mode": {
    "name": "ipython",
    "version": 3
   },
   "file_extension": ".py",
   "mimetype": "text/x-python",
   "name": "python",
   "nbconvert_exporter": "python",
   "pygments_lexer": "ipython3",
   "version": "3.7.4"
  }
 },
 "nbformat": 4,
 "nbformat_minor": 2
}
